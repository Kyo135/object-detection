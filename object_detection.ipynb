{
 "cells": [
  {
   "cell_type": "code",
   "execution_count": 44,
   "metadata": {},
   "outputs": [
    {
     "name": "stdout",
     "output_type": "stream",
     "text": [
      "152 37\n",
      "152 37\n",
      "129 97\n",
      "128 97\n"
     ]
    },
    {
     "ename": "KeyboardInterrupt",
     "evalue": "",
     "output_type": "error",
     "traceback": [
      "\u001b[0;31m---------------------------------------------------------------------------\u001b[0m",
      "\u001b[0;31mKeyboardInterrupt\u001b[0m                         Traceback (most recent call last)",
      "Cell \u001b[0;32mIn[44], line 48\u001b[0m\n\u001b[1;32m     46\u001b[0m \u001b[39mwhile\u001b[39;00m \u001b[39mTrue\u001b[39;00m:\n\u001b[1;32m     47\u001b[0m     ret, frame \u001b[39m=\u001b[39m img\u001b[39m.\u001b[39mread()\n\u001b[0;32m---> 48\u001b[0m     (class_id, score, bounding_box) \u001b[39m=\u001b[39m model\u001b[39m.\u001b[39;49mdetect(frame)\u001b[39m#this will detect an object\u001b[39;00m\n\u001b[1;32m     49\u001b[0m     \u001b[39mfor\u001b[39;00m class_id, score, bounding_box \u001b[39min\u001b[39;00m \u001b[39mzip\u001b[39m(class_id, score, bounding_box):\n\u001b[1;32m     50\u001b[0m         (x, y, w, h) \u001b[39m=\u001b[39m bounding_box\u001b[39m#gets dimensions of rectanglge\u001b[39;00m\n",
      "\u001b[0;31mKeyboardInterrupt\u001b[0m: "
     ]
    }
   ],
   "source": [
    "import cv2\n",
    "import numpy as np\n",
    "from gui_buttons import Buttons\n",
    "\n",
    "#using yolo dnn\n",
    "net = cv2.dnn.readNet(\"/home/kyo/Documents/ML Projects/dnn_model-220107-114215/dnn_model/yolov4-tiny.weights\", \"/home/kyo/Documents/ML Projects/dnn_model-220107-114215/dnn_model/yolov4-tiny.cfg\")\n",
    "model = cv2.dnn_DetectionModel(net)#deploy the deep neural network model\n",
    "model.setInputParams(size=(320,320), scale=1/255)#larger the size slower the processing \n",
    "\n",
    "\n",
    "img = cv2.VideoCapture(0)#captures whatever comes in camera\n",
    "\n",
    "\n",
    "#changing resolution of camera\n",
    "img.set(cv2.CAP_PROP_FRAME_WIDTH, 1280)\n",
    "img.set(cv2.CAP_PROP_FRAME_HEIGHT, 720)\n",
    "#to actually get the obejcts from the text file in a list \n",
    "classes = []\n",
    "with open(\"/home/kyo/Documents/ML Projects/dnn_model-220107-114215/dnn_model/classes.txt\", \"r\") as file_object:\n",
    "    for class_name in file_object.readlines():\n",
    "        class_name = class_name.strip()\n",
    "        classes.append(class_name)\n",
    "#print(classes)\n",
    "\n",
    "flag = False\n",
    "def click_button(event, x, y, flags, params):\n",
    "    global flag\n",
    "    if event == cv2.EVENT_LBUTTONDOWN:\n",
    "        print(x,y)\n",
    "        inside1 = cv2.pointPolygonTest(polygon1, (x, y), False)\n",
    "        inside2 = cv2.pointPolygonTest(polygon2, (x, y+60), False)\n",
    "        if inside1>0 or inside2:\n",
    "            if flag == False:\n",
    "                flag = True\n",
    "            else:\n",
    "                flag = False\n",
    "\n",
    "        \n",
    "\n",
    "\n",
    "\n",
    "cv2.namedWindow(\"Image\")\n",
    "cv2.setMouseCallback(\"Image\", click_button)\n",
    "\n",
    "\n",
    "while True:\n",
    "    ret, frame = img.read()\n",
    "    (class_id, score, bounding_box) = model.detect(frame)#this will detect an object\n",
    "    for class_id, score, bounding_box in zip(class_id, score, bounding_box):\n",
    "        (x, y, w, h) = bounding_box#gets dimensions of rectanglge\n",
    "        class_name = classes[class_id]\n",
    "        if class_name == \"person\" and flag == True:#if we click on the box we display the object\n",
    "            cv2.putText(frame, class_name, (x, y-10), cv2.FONT_ITALIC, 1, (200, 0, 50), 2)#what to display on the rectangle\n",
    "            cv2.rectangle(frame, (x, y), (x+w, y+h), (200, 0, 50), 3)\n",
    "        elif class_name == \"cell phone\" and flag == True:\n",
    "            cv2.putText(frame, class_name, (x, y-10), cv2.FONT_ITALIC, 1, (200, 0, 50), 2)#what to display on the rectangle\n",
    "            cv2.rectangle(frame, (x, y), (x+w, y+h), (200, 0, 50), 3)\n",
    "        \n",
    "    \n",
    "\n",
    "    #cv2.rectangle(frame, (20, 20), (220, 70), (0, 0, 200), -1)\n",
    "    polygon1 = np.array([[(20, 20), (220, 20), (220, 70), (20, 70)]])#we use polygon as that can be detected in the mouse region click\n",
    "    cv2.fillPoly(frame, polygon1, (0, 0, 200))\n",
    "    cv2.putText(frame, \"Person\", (30, 60), cv2.FONT_ITALIC, 2, (255, 255, 255), 3)\n",
    "    polygon2 = np.array([[(20, 80), (220, 80), (220, 130), (20, 130)]])\n",
    "    cv2.fillPoly(frame, polygon2, (0, 0, 200))\n",
    "    cv2.putText(frame, \"cell phone\", (30, 120), cv2.FONT_ITALIC, 1, (255, 255, 255), 2)\n",
    "    cv2.imshow(\"Image\", frame)\n",
    "    cv2.waitKey(1)"
   ]
  }
 ],
 "metadata": {
  "kernelspec": {
   "display_name": "Python 3",
   "language": "python",
   "name": "python3"
  },
  "language_info": {
   "codemirror_mode": {
    "name": "ipython",
    "version": 3
   },
   "file_extension": ".py",
   "mimetype": "text/x-python",
   "name": "python",
   "nbconvert_exporter": "python",
   "pygments_lexer": "ipython3",
   "version": "3.10.9"
  },
  "orig_nbformat": 4,
  "vscode": {
   "interpreter": {
    "hash": "e7370f93d1d0cde622a1f8e1c04877d8463912d04d973331ad4851f04de6915a"
   }
  }
 },
 "nbformat": 4,
 "nbformat_minor": 2
}
